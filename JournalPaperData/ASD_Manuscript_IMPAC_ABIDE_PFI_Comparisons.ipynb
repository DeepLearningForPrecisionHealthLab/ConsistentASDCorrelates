{
 "cells": [
  {
   "cell_type": "markdown",
   "metadata": {},
   "source": [
    "# PFI after tuning on ABIDE versus original"
   ]
  },
  {
   "cell_type": "code",
   "execution_count": 1,
   "metadata": {},
   "outputs": [],
   "source": [
    "sABIDE2 = '/archive/bioinformatics/DLLab/CooperMellema/results/Autism/ABIDE_Tuned/ABIDE2/PFI_Tuned_64Permutations/*.csv'\n",
    "sABIDE1 = '/archive/bioinformatics/DLLab/CooperMellema/results/Autism/ABIDE_Tuned/ABIDE1/PFI_Tuned_64Permutations/*.csv'\n",
    "s64 = '/project/bioinformatics/DLLab/Cooper/Code/AutismProject/JournalPaperData/AtlasResolutionComparison8Permutations/64ROI_MeanImportances.p'\n",
    "s122 = '/project/bioinformatics/DLLab/Cooper/Code/AutismProject/JournalPaperData/AtlasResolutionComparison8Permutations/122ROI_MeanImportances.p'\n",
    "s197 = '/project/bioinformatics/DLLab/Cooper/Code/AutismProject/JournalPaperData/AtlasResolutionComparison8Permutations/197ROI_MeanImportances.p'"
   ]
  },
  {
   "cell_type": "code",
   "execution_count": 2,
   "metadata": {},
   "outputs": [],
   "source": [
    "import pandas as pd\n",
    "import glob\n",
    "import os\n",
    "import pickle as pkl\n",
    "import numpy as np"
   ]
  },
  {
   "cell_type": "code",
   "execution_count": 156,
   "metadata": {},
   "outputs": [],
   "source": [
    "lsABIDE1 = glob.glob(sABIDE1)\n",
    "lsABIDE2 = glob.glob(sABIDE2)\n",
    "pd64 = pd.DataFrame.from_dict(pkl.load(open(s64, 'rb')), orient='index').sort_values(by=0, ascending=False)\n",
    "pd122 = pd.DataFrame.from_dict(pkl.load(open(s64, 'rb')), orient='index').sort_values(by=0, ascending=False)\n",
    "pd197 = pd.DataFrame.from_dict(pkl.load(open(s64, 'rb')), orient='index').sort_values(by=0, ascending=False)"
   ]
  },
  {
   "cell_type": "code",
   "execution_count": 157,
   "metadata": {},
   "outputs": [],
   "source": [
    "pdABIDE1_64=pd.concat([pd.read_csv(x, index_col=0).iloc[:,0:1] for x in lsABIDE1 if int(x.split('Model')[-1].split('_')[0]) in [i*3+1 for i in range(5)]], axis=1).mean(axis=1).to_frame().sort_values(by=0, ascending=False)\n",
    "pdABIDE1_122=pd.concat([pd.read_csv(x, index_col=0).iloc[:,0:1] for x in lsABIDE1 if int(x.split('Model')[-1].split('_')[0]) in [i*3+2 for i in range(5)]], axis=1).mean(axis=1).to_frame().sort_values(by=0, ascending=False)\n",
    "pdABIDE1_197=pd.concat([pd.read_csv(x, index_col=0).iloc[:,0:1] for x in lsABIDE1 if int(x.split('Model')[-1].split('_')[0]) in [i*3+3 for i in range(5)]], axis=1).mean(axis=1).to_frame().sort_values(by=0, ascending=False)\n",
    "pdABIDE2_64=pd.concat([pd.read_csv(x, index_col=0).iloc[:,0:1] for x in lsABIDE2 if int(x.split('Model')[-1].split('_')[0]) in [i*3+1 for i in range(5)]], axis=1).mean(axis=1).to_frame().sort_values(by=0, ascending=False)\n",
    "pdABIDE2_122=pd.concat([pd.read_csv(x, index_col=0).iloc[:,0:1] for x in lsABIDE2 if int(x.split('Model')[-1].split('_')[0]) in [i*3+2 for i in range(5)]], axis=1).mean(axis=1).to_frame().sort_values(by=0, ascending=False)\n",
    "pdABIDE2_197=pd.concat([pd.read_csv(x, index_col=0).iloc[:,0:1] for x in lsABIDE2 if int(x.split('Model')[-1].split('_')[0]) in [i*3+3 for i in range(5)]], axis=1).mean(axis=1).to_frame().sort_values(by=0, ascending=False)"
   ]
  },
  {
   "cell_type": "code",
   "execution_count": 158,
   "metadata": {},
   "outputs": [
    {
     "name": "stdout",
     "output_type": "stream",
     "text": [
      "30.232558139534884\n",
      "2.5641025641025643\n",
      "0.0\n",
      "33.333333333333336\n",
      "4.081632653061225\n",
      "87.75510204081633\n"
     ]
    }
   ],
   "source": [
    "for a1, a2 in [(pd64, pdABIDE1_64), (pd122, pdABIDE1_122), (pd197, pdABIDE1_197), (pd64, pdABIDE2_64), (pd122, pdABIDE2_122), (pd197, pdABIDE2_197)]:\n",
    "    s1=set(a1.loc[(a1>3*a1[0].std()).values.flatten()].index)\n",
    "    s2=set(a2.loc[(a2>3*a2[0].std()).values.flatten()].index)\n",
    "    print(100*len(s1.intersection(s2))/min(len(s1), len(s2)))"
   ]
  },
  {
   "cell_type": "code",
   "execution_count": 171,
   "metadata": {},
   "outputs": [],
   "source": [
    "from scipy.stats import spearmanr, pearsonr\n"
   ]
  },
  {
   "cell_type": "code",
   "execution_count": 212,
   "metadata": {},
   "outputs": [
    {
     "name": "stdout",
     "output_type": "stream",
     "text": [
      "SpearmanrResult(correlation=-0.03932089712111359, pvalue=0.744750683137488)\n",
      "(-0.27904375107956475, 0.018445749810039356)\n",
      "SpearmanrResult(correlation=-0.6575391154502028, pvalue=1.9639792233137573e-10)\n",
      "(-0.6178145917337516, 4.520247675059026e-09)\n",
      "SpearmanrResult(correlation=-0.7414979757085021, pvalue=6.664212475491701e-08)\n",
      "(-0.6585298586789411, 5.184391822540278e-06)\n",
      "SpearmanrResult(correlation=-0.06759168182357869, pvalue=0.6141669770932461)\n",
      "(-0.19345352668860372, 0.14566621351428194)\n",
      "SpearmanrResult(correlation=-0.6649766715505305, pvalue=1.5271981798926797e-09)\n",
      "(-0.5655334305258578, 9.169555132414826e-07)\n",
      "SpearmanrResult(correlation=-0.6270926797242586, pvalue=2.5204842990860495e-05)\n",
      "(-0.7096173094803144, 6.091914935574851e-07)\n",
      "NOTE: Error in ABIDE 1, 197 ROIs (third entry), PFI incomplete due to memory overflow\n"
     ]
    }
   ],
   "source": [
    "lsSP=[]\n",
    "lsPR=[]\n",
    "for a1, a2 in [(pd64, pdABIDE1_64), (pd122, pdABIDE1_122), (pd197, pdABIDE1_197), (pd64, pdABIDE2_64), (pd122, pdABIDE2_122), (pd197, pdABIDE2_197)]:\n",
    "    try:\n",
    "        a2=a2.sort_index().loc[a1.index]\n",
    "        a1=a1.sort_index()\n",
    "        thresh = 3*np.std(np.concatenate([a1.values, a2.values]))\n",
    "        sp=spearmanr(abs(a1.loc[np.bitwise_or((abs(a1)>thresh).values, (abs(a2)>thresh).values).flatten()]), abs(a2.loc[np.bitwise_or((abs(a1)>thresh).values, (abs(a2)>thresh).values).flatten()]))\n",
    "        pr=pearsonr(abs(a1.loc[np.bitwise_or((abs(a1)>thresh).values, (abs(a2)>thresh).values).flatten()].values.flatten()), abs(a2.loc[np.bitwise_or((abs(a1)>thresh).values, (abs(a2)>thresh).values).flatten()].values.flatten()))\n",
    "        print(sp)\n",
    "        print(pr)\n",
    "        lsSP.append(abs(sp[0]))\n",
    "        lsPR.append(abs(pr[0]))\n",
    "    except:\n",
    "        print('ERROR')\n",
    "print('NOTE: Error in ABIDE 1, 197 ROIs (third entry), PFI incomplete due to memory overflow, ignored going forward')"
   ]
  },
  {
   "cell_type": "code",
   "execution_count": 216,
   "metadata": {},
   "outputs": [
    {
     "data": {
      "text/plain": [
       "-0.4663365035630311"
      ]
     },
     "execution_count": 216,
     "metadata": {},
     "output_type": "execute_result"
    }
   ],
   "source": [
    "np.mean(lsSP)"
   ]
  },
  {
   "cell_type": "code",
   "execution_count": 215,
   "metadata": {},
   "outputs": [
    {
     "data": {
      "text/plain": [
       "-0.5039987446978389"
      ]
     },
     "execution_count": 215,
     "metadata": {},
     "output_type": "execute_result"
    }
   ],
   "source": [
    "np.mean(lsPR)"
   ]
  },
  {
   "cell_type": "code",
   "execution_count": null,
   "metadata": {},
   "outputs": [],
   "source": []
  }
 ],
 "metadata": {
  "interpreter": {
   "hash": "8959ec264091cdd4f17a7d56d718044293f5460a29b211a8649f258fa36711bc"
  },
  "kernelspec": {
   "display_name": "Python 3.6.7 64-bit ('CooperAutismTF_GPU_v5': conda)",
   "language": "python",
   "name": "python3"
  },
  "language_info": {
   "codemirror_mode": {
    "name": "ipython",
    "version": 3
   },
   "file_extension": ".py",
   "mimetype": "text/x-python",
   "name": "python",
   "nbconvert_exporter": "python",
   "pygments_lexer": "ipython3",
   "version": "3.6.7"
  }
 },
 "nbformat": 4,
 "nbformat_minor": 2
}
