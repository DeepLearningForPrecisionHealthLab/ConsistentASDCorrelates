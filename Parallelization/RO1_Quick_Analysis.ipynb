{
 "cells": [
  {
   "cell_type": "markdown",
   "metadata": {},
   "source": [
    "# RO1 Quick analysis"
   ]
  },
  {
   "cell_type": "code",
   "execution_count": 127,
   "metadata": {},
   "outputs": [],
   "source": [
    "import os\n",
    "import pickle as pkl\n",
    "from collections import OrderedDict as od\n",
    "import numpy as np\n",
    "%matplotlib inline\n",
    "import matplotlib.pyplot as plt\n",
    "import seaborn as sns\n",
    "from statsmodels.multivariate.manova import MANOVA\n",
    "import pandas as pd\n",
    "import scipy as sp"
   ]
  },
  {
   "cell_type": "code",
   "execution_count": 14,
   "metadata": {},
   "outputs": [],
   "source": [
    "# Load the different data for each metric\n",
    "dAllConnTr=od()\n",
    "dAllConnTe=od()\n",
    "dAllYTr=od()\n",
    "dAllYTe=od()\n",
    "\n",
    "for sConn in ['Correlation', 'PartialCorrelation', 'Covariance', 'Precision', 'LSGC','Tangent']:\n",
    "    [dXTrain, dXTest, aYTrain, aYTest] = pkl.load(open(os.path.join(\n",
    "        '/project/bioinformatics/DLLab/Cooper/Code/AutismProject/',f'AlternateMetrics/{sConn}AllData.p'),'rb'))\n",
    "    dAllConnTr.update({sConn: dXTrain})\n",
    "    dAllConnTe.update({sConn: dXTest})\n",
    "    dAllYTr.update({sConn: aYTrain})\n",
    "    dAllYTe.update({sConn: aYTest})    "
   ]
  },
  {
   "cell_type": "code",
   "execution_count": 35,
   "metadata": {},
   "outputs": [],
   "source": [
    "# Concatenate train and test data for group analysis\n",
    "dAllConn=od()\n",
    "for sKey in dAllConnTr.keys():\n",
    "    dAllConn.update({sKey:{}})\n",
    "    for sKey2 in dAllConnTr[sKey].keys():\n",
    "        if sKey2=='anatomy':\n",
    "            dAllConn[sKey].update({sKey2:\n",
    "                                   [np.concatenate((dAllConnTr[sKey][sKey2],\n",
    "                                                   dAllConnTe[sKey][sKey2]), axis=0),\n",
    "                                   np.concatenate((dAllYTr[sKey],\n",
    "                                                   dAllYTe[sKey]), axis=0)\n",
    "                                   ]})\n",
    "        elif sKey2=='connectivity':\n",
    "            for sKey3 in dAllConnTr[sKey][sKey2].keys():\n",
    "                dAllConn[sKey].update({sKey3:\n",
    "                       # first 36 features are confounders (site location number)\n",
    "                       [np.concatenate((dAllConnTr[sKey][sKey2][sKey3][:,36:],\n",
    "                                       dAllConnTe[sKey][sKey2][sKey3][:,36:]), axis=0),\n",
    "                       np.concatenate((dAllYTr[sKey],\n",
    "                                       dAllYTe[sKey]), axis=0)\n",
    "                       ]})\n",
    "        else:\n",
    "            continue"
   ]
  },
  {
   "cell_type": "code",
   "execution_count": 124,
   "metadata": {},
   "outputs": [],
   "source": [
    "# def fMANOVATest(aX,aY):\n",
    "#     aDep=np.concatenate((aX, aY), axis=0)\n",
    "#     aIndep=np.concatenate((np.ones(aX.shape[0],1), np.zeros(aY.shape[0],1)),axis=0)\n",
    "#     MANOVA(endog=aDep, exog=aIndep)\n",
    "#     return MANOVA.mv_test()"
   ]
  },
  {
   "cell_type": "code",
   "execution_count": 126,
   "metadata": {},
   "outputs": [],
   "source": [
    "# answer is not convering\n",
    "# sKey='Correlation'\n",
    "# sKey2='anatomy'\n",
    "\n",
    "# aX=dAllConn[sKey][sKey2][0][idASD]\n",
    "# aY=dAllConn[sKey][sKey2][0][idHC]\n",
    "\n",
    "# aDep=np.concatenate((aX, aY), axis=0)\n",
    "# aIndep=np.concatenate((np.ones((aX.shape[0],1)), np.zeros((aY.shape[0],1))), axis=0)\n",
    "\n",
    "# cTest=MANOVA(endog=aDep, exog=aIndep)\n",
    "# cTest.mv_test()\n",
    "# d=pd.DataFrame(np.concatenate((aIndep, aDep), axis=1), columns=[f'ROI{x}' for x in range(aDep.shape[1]+1)])\n",
    "\n",
    "# sFormula=list(d.columns[1:])\n",
    "# sFormula=' + '.join(map(str, sFormula))\n",
    "# sFormula=f'{sFormula} ~ ROI0'\n",
    "# sFormula\n",
    "\n",
    "# cOut=MANOVA.from_formula(sFormula, data=d)\n",
    "# print(cOut.mv_test())"
   ]
  },
  {
   "cell_type": "code",
   "execution_count": 162,
   "metadata": {},
   "outputs": [],
   "source": [
    "from statsmodels.stats.multitest import multipletests"
   ]
  },
  {
   "cell_type": "code",
   "execution_count": 191,
   "metadata": {},
   "outputs": [],
   "source": [
    "def fTest(aX, aY, flThresh=0.05):\n",
    "    lsP=list()\n",
    "    nCorrected=aX.shape[1]\n",
    "    for iTest in range(nCorrected):\n",
    "        flTStat, flP = sp.stats.ttest_ind(aX[:,iTest], aY[:,iTest], equal_var=False)\n",
    "        lsP.append(flP)\n",
    "    aP=np.array(lsP)\n",
    "    aP[np.isnan(aP)]=1\n",
    "    aReject, aPCorrected=multipletests(aP, alpha=flThresh, method='fdr_bh')[:2]\n",
    "    idxSig=np.where(aPCorrected<flThresh)\n",
    "    return aP, idxSig"
   ]
  },
  {
   "cell_type": "code",
   "execution_count": 195,
   "metadata": {
    "scrolled": true
   },
   "outputs": [
    {
     "name": "stdout",
     "output_type": "stream",
     "text": [
      "3/243 significant differences between ASD and HC for anatomy features using Correlation\n",
      "108/2080 significant differences between ASD and HC for basc064 features using Correlation\n",
      "357/7503 significant differences between ASD and HC for basc122 features using Correlation\n",
      "739/19503 significant differences between ASD and HC for basc197 features using Correlation\n",
      "735/31125 significant differences between ASD and HC for craddock_scorr_mean features using Correlation\n",
      "12/1176 significant differences between ASD and HC for harvard_oxford_cort_prob_2mm features using Correlation\n",
      "25/780 significant differences between ASD and HC for msdl features using Correlation\n",
      "410/34980 significant differences between ASD and HC for power_2011 features using Correlation\n",
      "3/243 significant differences between ASD and HC for anatomy features using PartialCorrelation\n",
      "0/2080 significant differences between ASD and HC for basc064 features using PartialCorrelation\n",
      "1/7503 significant differences between ASD and HC for basc122 features using PartialCorrelation\n",
      "1/19503 significant differences between ASD and HC for basc197 features using PartialCorrelation\n",
      "0/31125 significant differences between ASD and HC for craddock_scorr_mean features using PartialCorrelation\n",
      "0/1176 significant differences between ASD and HC for harvard_oxford_cort_prob_2mm features using PartialCorrelation\n",
      "3/780 significant differences between ASD and HC for msdl features using PartialCorrelation\n",
      "0/34980 significant differences between ASD and HC for power_2011 features using PartialCorrelation\n",
      "3/243 significant differences between ASD and HC for anatomy features using Covariance\n",
      "49/2080 significant differences between ASD and HC for basc064 features using Covariance\n",
      "99/7503 significant differences between ASD and HC for basc122 features using Covariance\n",
      "201/19503 significant differences between ASD and HC for basc197 features using Covariance\n",
      "202/31125 significant differences between ASD and HC for craddock_scorr_mean features using Covariance\n",
      "0/1176 significant differences between ASD and HC for harvard_oxford_cort_prob_2mm features using Covariance\n",
      "4/780 significant differences between ASD and HC for msdl features using Covariance\n",
      "74/34980 significant differences between ASD and HC for power_2011 features using Covariance\n",
      "3/243 significant differences between ASD and HC for anatomy features using Precision\n",
      "0/2080 significant differences between ASD and HC for basc064 features using Precision\n",
      "1/7503 significant differences between ASD and HC for basc122 features using Precision\n",
      "1/19503 significant differences between ASD and HC for basc197 features using Precision\n",
      "0/31125 significant differences between ASD and HC for craddock_scorr_mean features using Precision\n",
      "0/1176 significant differences between ASD and HC for harvard_oxford_cort_prob_2mm features using Precision\n",
      "0/780 significant differences between ASD and HC for msdl features using Precision\n",
      "0/34980 significant differences between ASD and HC for power_2011 features using Precision\n",
      "3/243 significant differences between ASD and HC for anatomy features using LSGC\n",
      "0/4032 significant differences between ASD and HC for basc064 features using LSGC\n",
      "0/14762 significant differences between ASD and HC for basc122 features using LSGC\n",
      "0/38612 significant differences between ASD and HC for basc197 features using LSGC\n",
      "0/61752 significant differences between ASD and HC for craddock_scorr_mean features using LSGC\n",
      "0/2256 significant differences between ASD and HC for harvard_oxford_cort_prob_2mm features using LSGC\n",
      "0/1482 significant differences between ASD and HC for msdl features using LSGC\n",
      "0/69432 significant differences between ASD and HC for power_2011 features using LSGC\n",
      "3/243 significant differences between ASD and HC for anatomy features using Tangent\n",
      "19/2080 significant differences between ASD and HC for basc064 features using Tangent\n",
      "7/7503 significant differences between ASD and HC for basc122 features using Tangent\n",
      "9/19503 significant differences between ASD and HC for basc197 features using Tangent\n",
      "6/31125 significant differences between ASD and HC for craddock_scorr_mean features using Tangent\n",
      "1/1176 significant differences between ASD and HC for harvard_oxford_cort_prob_2mm features using Tangent\n",
      "12/780 significant differences between ASD and HC for msdl features using Tangent\n",
      "0/34980 significant differences between ASD and HC for power_2011 features using Tangent\n"
     ]
    }
   ],
   "source": [
    "#Test for significance\n",
    "dAllTestStats=od()\n",
    "for sKey in dAllConn.keys():\n",
    "    dAllTestStats.update({sKey:{}})\n",
    "    for sKey2 in dAllConn[sKey].keys():\n",
    "        aASD=dAllConn[sKey][sKey2][0][idASD]\n",
    "        aHC=dAllConn[sKey][sKey2][0][idHC]\n",
    "        aP, idxSig=fTest(aASD,aHC,flThresh=0.01)\n",
    "        print(f'{idxSig[0].shape[0]}/{aP.shape[0]} significant differences between ASD and HC for {sKey2} features using {sKey}')\n",
    "        dAllTestStats[sKey].update({sKey2: flTestStat})"
   ]
  },
  {
   "cell_type": "code",
   "execution_count": 194,
   "metadata": {},
   "outputs": [
    {
     "name": "stdout",
     "output_type": "stream",
     "text": [
      "6/243 significant differences between ASD and HC for anatomy features using Correlation\n",
      "272/2080 significant differences between ASD and HC for basc064 features using Correlation\n",
      "889/7503 significant differences between ASD and HC for basc122 features using Correlation\n",
      "2105/19503 significant differences between ASD and HC for basc197 features using Correlation\n",
      "2256/31125 significant differences between ASD and HC for craddock_scorr_mean features using Correlation\n",
      "39/1176 significant differences between ASD and HC for harvard_oxford_cort_prob_2mm features using Correlation\n",
      "84/780 significant differences between ASD and HC for msdl features using Correlation\n",
      "1461/34980 significant differences between ASD and HC for power_2011 features using Correlation\n",
      "6/243 significant differences between ASD and HC for anatomy features using PartialCorrelation\n",
      "0/2080 significant differences between ASD and HC for basc064 features using PartialCorrelation\n",
      "2/7503 significant differences between ASD and HC for basc122 features using PartialCorrelation\n",
      "2/19503 significant differences between ASD and HC for basc197 features using PartialCorrelation\n",
      "2/31125 significant differences between ASD and HC for craddock_scorr_mean features using PartialCorrelation\n",
      "0/1176 significant differences between ASD and HC for harvard_oxford_cort_prob_2mm features using PartialCorrelation\n",
      "5/780 significant differences between ASD and HC for msdl features using PartialCorrelation\n",
      "0/34980 significant differences between ASD and HC for power_2011 features using PartialCorrelation\n",
      "6/243 significant differences between ASD and HC for anatomy features using Covariance\n",
      "204/2080 significant differences between ASD and HC for basc064 features using Covariance\n",
      "415/7503 significant differences between ASD and HC for basc122 features using Covariance\n",
      "850/19503 significant differences between ASD and HC for basc197 features using Covariance\n",
      "885/31125 significant differences between ASD and HC for craddock_scorr_mean features using Covariance\n",
      "53/1176 significant differences between ASD and HC for harvard_oxford_cort_prob_2mm features using Covariance\n",
      "31/780 significant differences between ASD and HC for msdl features using Covariance\n",
      "468/34980 significant differences between ASD and HC for power_2011 features using Covariance\n",
      "6/243 significant differences between ASD and HC for anatomy features using Precision\n",
      "0/2080 significant differences between ASD and HC for basc064 features using Precision\n",
      "1/7503 significant differences between ASD and HC for basc122 features using Precision\n",
      "1/19503 significant differences between ASD and HC for basc197 features using Precision\n",
      "0/31125 significant differences between ASD and HC for craddock_scorr_mean features using Precision\n",
      "0/1176 significant differences between ASD and HC for harvard_oxford_cort_prob_2mm features using Precision\n",
      "0/780 significant differences between ASD and HC for msdl features using Precision\n",
      "0/34980 significant differences between ASD and HC for power_2011 features using Precision\n",
      "6/243 significant differences between ASD and HC for anatomy features using LSGC\n",
      "0/4032 significant differences between ASD and HC for basc064 features using LSGC\n",
      "0/14762 significant differences between ASD and HC for basc122 features using LSGC\n",
      "0/38612 significant differences between ASD and HC for basc197 features using LSGC\n",
      "0/61752 significant differences between ASD and HC for craddock_scorr_mean features using LSGC\n",
      "0/2256 significant differences between ASD and HC for harvard_oxford_cort_prob_2mm features using LSGC\n",
      "0/1482 significant differences between ASD and HC for msdl features using LSGC\n",
      "0/69432 significant differences between ASD and HC for power_2011 features using LSGC\n",
      "6/243 significant differences between ASD and HC for anatomy features using Tangent\n",
      "82/2080 significant differences between ASD and HC for basc064 features using Tangent\n",
      "95/7503 significant differences between ASD and HC for basc122 features using Tangent\n",
      "73/19503 significant differences between ASD and HC for basc197 features using Tangent\n",
      "42/31125 significant differences between ASD and HC for craddock_scorr_mean features using Tangent\n",
      "17/1176 significant differences between ASD and HC for harvard_oxford_cort_prob_2mm features using Tangent\n",
      "32/780 significant differences between ASD and HC for msdl features using Tangent\n",
      "4/34980 significant differences between ASD and HC for power_2011 features using Tangent\n"
     ]
    }
   ],
   "source": [
    "#Test for significance\n",
    "dAllTestStats=od()\n",
    "for sKey in dAllConn.keys():\n",
    "    dAllTestStats.update({sKey:{}})\n",
    "    for sKey2 in dAllConn[sKey].keys():\n",
    "        aASD=dAllConn[sKey][sKey2][0][idASD]\n",
    "        aHC=dAllConn[sKey][sKey2][0][idHC]\n",
    "        aP, idxSig=fTest(aASD,aHC,flThresh=0.05)\n",
    "        print(f'{idxSig[0].shape[0]}/{aP.shape[0]} significant differences between ASD and HC for {sKey2} features using {sKey}')\n",
    "        dAllTestStats[sKey].update({sKey2: flTestStat})"
   ]
  },
  {
   "cell_type": "code",
   "execution_count": null,
   "metadata": {},
   "outputs": [],
   "source": []
  }
 ],
 "metadata": {
  "kernelspec": {
   "display_name": "Python 3",
   "language": "python",
   "name": "python3"
  },
  "language_info": {
   "codemirror_mode": {
    "name": "ipython",
    "version": 3
   },
   "file_extension": ".py",
   "mimetype": "text/x-python",
   "name": "python",
   "nbconvert_exporter": "python",
   "pygments_lexer": "ipython3",
   "version": "3.6.7"
  }
 },
 "nbformat": 4,
 "nbformat_minor": 2
}
