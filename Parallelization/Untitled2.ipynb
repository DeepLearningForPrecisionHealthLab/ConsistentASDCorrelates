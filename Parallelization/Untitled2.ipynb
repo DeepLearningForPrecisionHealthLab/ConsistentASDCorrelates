{
 "cells": [
  {
   "cell_type": "code",
   "execution_count": 1,
   "metadata": {},
   "outputs": [],
   "source": [
    "import pandas as pd\n",
    "import matplotlib.pyplot as plt"
   ]
  },
  {
   "cell_type": "code",
   "execution_count": 4,
   "metadata": {},
   "outputs": [],
   "source": [
    "pdEx=pd.read_csv('/project/bioinformatics/DLLab/Cooper/Presentation/Committee/SCExample.csv')"
   ]
  },
  {
   "cell_type": "code",
   "execution_count": 5,
   "metadata": {},
   "outputs": [
    {
     "data": {
      "text/html": [
       "<div>\n",
       "<style scoped>\n",
       "    .dataframe tbody tr th:only-of-type {\n",
       "        vertical-align: middle;\n",
       "    }\n",
       "\n",
       "    .dataframe tbody tr th {\n",
       "        vertical-align: top;\n",
       "    }\n",
       "\n",
       "    .dataframe thead th {\n",
       "        text-align: right;\n",
       "    }\n",
       "</style>\n",
       "<table border=\"1\" class=\"dataframe\">\n",
       "  <thead>\n",
       "    <tr style=\"text-align: right;\">\n",
       "      <th></th>\n",
       "      <th>Unnamed: 0</th>\n",
       "      <th>'L Aud',</th>\n",
       "      <th>'R Aud',</th>\n",
       "      <th>'Striate',</th>\n",
       "      <th>'L DMN',</th>\n",
       "      <th>'Med DMN',</th>\n",
       "      <th>'Front DMN',</th>\n",
       "      <th>'R DMN',</th>\n",
       "      <th>'Occ post',</th>\n",
       "      <th>'Motor',</th>\n",
       "      <th>...</th>\n",
       "      <th>'Sup Front S',</th>\n",
       "      <th>'R TPJ',</th>\n",
       "      <th>'R Pars Op',</th>\n",
       "      <th>'Cereb',</th>\n",
       "      <th>'Dors PCC',</th>\n",
       "      <th>'L Ins',</th>\n",
       "      <th>'Cing',</th>\n",
       "      <th>'R Ins',</th>\n",
       "      <th>'L Ant IPS',</th>\n",
       "      <th>'R Ant IPS'</th>\n",
       "    </tr>\n",
       "  </thead>\n",
       "  <tbody>\n",
       "    <tr>\n",
       "      <th>0</th>\n",
       "      <td>'L Aud',</td>\n",
       "      <td>141806</td>\n",
       "      <td>1543</td>\n",
       "      <td>0</td>\n",
       "      <td>0</td>\n",
       "      <td>0</td>\n",
       "      <td>534</td>\n",
       "      <td>0</td>\n",
       "      <td>0</td>\n",
       "      <td>68</td>\n",
       "      <td>...</td>\n",
       "      <td>45</td>\n",
       "      <td>0</td>\n",
       "      <td>3076</td>\n",
       "      <td>0</td>\n",
       "      <td>0</td>\n",
       "      <td>0</td>\n",
       "      <td>0</td>\n",
       "      <td>2267</td>\n",
       "      <td>0</td>\n",
       "      <td>253</td>\n",
       "    </tr>\n",
       "    <tr>\n",
       "      <th>1</th>\n",
       "      <td>'R Aud',</td>\n",
       "      <td>1543</td>\n",
       "      <td>7958</td>\n",
       "      <td>0</td>\n",
       "      <td>0</td>\n",
       "      <td>0</td>\n",
       "      <td>133</td>\n",
       "      <td>0</td>\n",
       "      <td>0</td>\n",
       "      <td>358</td>\n",
       "      <td>...</td>\n",
       "      <td>15</td>\n",
       "      <td>0</td>\n",
       "      <td>3225</td>\n",
       "      <td>0</td>\n",
       "      <td>0</td>\n",
       "      <td>0</td>\n",
       "      <td>8</td>\n",
       "      <td>2147</td>\n",
       "      <td>0</td>\n",
       "      <td>350</td>\n",
       "    </tr>\n",
       "    <tr>\n",
       "      <th>2</th>\n",
       "      <td>'Striate',</td>\n",
       "      <td>0</td>\n",
       "      <td>0</td>\n",
       "      <td>0</td>\n",
       "      <td>0</td>\n",
       "      <td>0</td>\n",
       "      <td>0</td>\n",
       "      <td>0</td>\n",
       "      <td>0</td>\n",
       "      <td>0</td>\n",
       "      <td>...</td>\n",
       "      <td>0</td>\n",
       "      <td>0</td>\n",
       "      <td>0</td>\n",
       "      <td>0</td>\n",
       "      <td>0</td>\n",
       "      <td>0</td>\n",
       "      <td>0</td>\n",
       "      <td>0</td>\n",
       "      <td>0</td>\n",
       "      <td>0</td>\n",
       "    </tr>\n",
       "    <tr>\n",
       "      <th>3</th>\n",
       "      <td>'L DMN',</td>\n",
       "      <td>0</td>\n",
       "      <td>0</td>\n",
       "      <td>0</td>\n",
       "      <td>0</td>\n",
       "      <td>0</td>\n",
       "      <td>0</td>\n",
       "      <td>0</td>\n",
       "      <td>0</td>\n",
       "      <td>0</td>\n",
       "      <td>...</td>\n",
       "      <td>0</td>\n",
       "      <td>0</td>\n",
       "      <td>0</td>\n",
       "      <td>0</td>\n",
       "      <td>0</td>\n",
       "      <td>0</td>\n",
       "      <td>0</td>\n",
       "      <td>0</td>\n",
       "      <td>0</td>\n",
       "      <td>0</td>\n",
       "    </tr>\n",
       "    <tr>\n",
       "      <th>4</th>\n",
       "      <td>'Med DMN',</td>\n",
       "      <td>0</td>\n",
       "      <td>0</td>\n",
       "      <td>0</td>\n",
       "      <td>0</td>\n",
       "      <td>0</td>\n",
       "      <td>0</td>\n",
       "      <td>0</td>\n",
       "      <td>0</td>\n",
       "      <td>0</td>\n",
       "      <td>...</td>\n",
       "      <td>0</td>\n",
       "      <td>0</td>\n",
       "      <td>0</td>\n",
       "      <td>0</td>\n",
       "      <td>0</td>\n",
       "      <td>0</td>\n",
       "      <td>0</td>\n",
       "      <td>0</td>\n",
       "      <td>0</td>\n",
       "      <td>0</td>\n",
       "    </tr>\n",
       "  </tbody>\n",
       "</table>\n",
       "<p>5 rows × 40 columns</p>\n",
       "</div>"
      ],
      "text/plain": [
       "    Unnamed: 0  'L Aud',   'R Aud',   'Striate',   'L DMN',   'Med DMN',  \\\n",
       "0     'L Aud',    141806       1543            0          0            0   \n",
       "1     'R Aud',      1543       7958            0          0            0   \n",
       "2   'Striate',         0          0            0          0            0   \n",
       "3     'L DMN',         0          0            0          0            0   \n",
       "4   'Med DMN',         0          0            0          0            0   \n",
       "\n",
       "    'Front DMN',   'R DMN',   'Occ post',   'Motor',      ...       \\\n",
       "0            534          0             0         68      ...        \n",
       "1            133          0             0        358      ...        \n",
       "2              0          0             0          0      ...        \n",
       "3              0          0             0          0      ...        \n",
       "4              0          0             0          0      ...        \n",
       "\n",
       "    'Sup Front S',   'R TPJ',   'R Pars Op',   'Cereb',   'Dors PCC',  \\\n",
       "0               45          0           3076          0             0   \n",
       "1               15          0           3225          0             0   \n",
       "2                0          0              0          0             0   \n",
       "3                0          0              0          0             0   \n",
       "4                0          0              0          0             0   \n",
       "\n",
       "    'L Ins',   'Cing',   'R Ins',   'L Ant IPS',   'R Ant IPS'  \n",
       "0          0         0       2267              0           253  \n",
       "1          0         8       2147              0           350  \n",
       "2          0         0          0              0             0  \n",
       "3          0         0          0              0             0  \n",
       "4          0         0          0              0             0  \n",
       "\n",
       "[5 rows x 40 columns]"
      ]
     },
     "execution_count": 5,
     "metadata": {},
     "output_type": "execute_result"
    }
   ],
   "source": [
    "pdEx.head()"
   ]
  },
  {
   "cell_type": "code",
   "execution_count": 18,
   "metadata": {},
   "outputs": [],
   "source": [
    "lsFeatures=list(pdEx.columns)\n",
    "aConn=pdEx.drop([lsFeatures[0]], axis=1).values\n",
    "lsFeatures=lsFeatures[1:]"
   ]
  },
  {
   "cell_type": "code",
   "execution_count": 10,
   "metadata": {},
   "outputs": [],
   "source": [
    "import seaborn as sns\n",
    "import numpy as np"
   ]
  },
  {
   "cell_type": "code",
   "execution_count": 17,
   "metadata": {},
   "outputs": [
    {
     "data": {
      "text/plain": [
       "array([[141806,   1543,      0, ...,   2267,      0,    253],\n",
       "       [  1543,   7958,      0, ...,   2147,      0,    350],\n",
       "       [     0,      0,      0, ...,      0,      0,      0],\n",
       "       ...,\n",
       "       [  2267,   2147,      0, ...,   5525,      0,    156],\n",
       "       [     0,      0,      0, ...,      0,      0,      0],\n",
       "       [   253,    350,      0, ...,    156,      0,    267]])"
      ]
     },
     "execution_count": 17,
     "metadata": {},
     "output_type": "execute_result"
    }
   ],
   "source": [
    "aConn"
   ]
  },
  {
   "cell_type": "code",
   "execution_count": 20,
   "metadata": {},
   "outputs": [
    {
     "data": {
      "text/plain": [
       "\"'L Aud',\""
      ]
     },
     "execution_count": 20,
     "metadata": {},
     "output_type": "execute_result"
    }
   ],
   "source": [
    "lsFeatures[0]"
   ]
  },
  {
   "cell_type": "code",
   "execution_count": 36,
   "metadata": {},
   "outputs": [
    {
     "name": "stderr",
     "output_type": "stream",
     "text": [
      "/project/bioinformatics/DLLab/shared/CondaEnvironments/CooperAuttfGPUv4/lib/python3.6/site-packages/ipykernel_launcher.py:1: RuntimeWarning: divide by zero encountered in log\n",
      "  \"\"\"Entry point for launching an IPython kernel.\n"
     ]
    },
    {
     "data": {
      "text/plain": [
       "[Text(0, 0.5, \"'L Aud',\"),\n",
       " Text(0, 2.5, \" 'R Aud',\"),\n",
       " Text(0, 4.5, \" 'Striate',\"),\n",
       " Text(0, 6.5, \" 'L DMN',\"),\n",
       " Text(0, 8.5, \" 'Med DMN',\"),\n",
       " Text(0, 10.5, \" 'Front DMN',\"),\n",
       " Text(0, 12.5, \" 'R DMN',\"),\n",
       " Text(0, 14.5, \" 'Occ post',\"),\n",
       " Text(0, 16.5, \" 'Motor',\"),\n",
       " Text(0, 18.5, \" 'R DLPFC',\"),\n",
       " Text(0, 20.5, \" 'R Front pol',\"),\n",
       " Text(0, 22.5, \" 'R Par',\"),\n",
       " Text(0, 24.5, \" 'R Post Temp',\"),\n",
       " Text(0, 26.5, \" 'Basal',\"),\n",
       " Text(0, 28.5, \" 'L Par',\"),\n",
       " Text(0, 30.5, \" 'L DLPFC',\"),\n",
       " Text(0, 32.5, \" 'L Front pol',\"),\n",
       " Text(0, 34.5, \" 'L IPS',\"),\n",
       " Text(0, 36.5, \" 'R IPS',\"),\n",
       " Text(0, 38.5, \" 'L LOC',\")]"
      ]
     },
     "execution_count": 36,
     "metadata": {},
     "output_type": "execute_result"
    },
    {
     "data": {
      "image/png": "[encoded data removed]",
      "text/plain": [
       "<Figure size 432x288 with 2 Axes>"
      ]
     },
     "metadata": {
      "needs_background": "light"
     },
     "output_type": "display_data"
    }
   ],
   "source": [
    "ax=sns.heatmap(np.log(aConn), vmin=0)\n",
    "ax.set_xticklabels(lsFeatures)\n",
    "for tick in ax.get_xticklabels():\n",
    "    tick.set_rotation(90)\n",
    "ax.set_yticklabels(lsFeatures)"
   ]
  },
  {
   "cell_type": "code",
   "execution_count": null,
   "metadata": {},
   "outputs": [],
   "source": []
  }
 ],
 "metadata": {
  "kernelspec": {
   "display_name": "Python 3",
   "language": "python",
   "name": "python3"
  },
  "language_info": {
   "codemirror_mode": {
    "name": "ipython",
    "version": 3
   },
   "file_extension": ".py",
   "mimetype": "text/x-python",
   "name": "python",
   "nbconvert_exporter": "python",
   "pygments_lexer": "ipython3",
   "version": "3.6.6"
  }
 },
 "nbformat": 4,
 "nbformat_minor": 2
}
