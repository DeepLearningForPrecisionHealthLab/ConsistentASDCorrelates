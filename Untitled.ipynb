{
 "cells": [
  {
   "cell_type": "code",
   "execution_count": 1,
   "metadata": {},
   "outputs": [
    {
     "ename": "ModuleNotFoundError",
     "evalue": "No module named 'keras'",
     "output_type": "error",
     "traceback": [
      "\u001b[0;31m---------------------------------------------------------------------------\u001b[0m",
      "\u001b[0;31mModuleNotFoundError\u001b[0m                       Traceback (most recent call last)",
      "\u001b[0;32m<ipython-input-1-7409e2e91929>\u001b[0m in \u001b[0;36m<module>\u001b[0;34m()\u001b[0m\n\u001b[1;32m      4\u001b[0m \u001b[0;32mimport\u001b[0m \u001b[0mpickle\u001b[0m\u001b[0;34m\u001b[0m\u001b[0m\n\u001b[1;32m      5\u001b[0m \u001b[0;32mimport\u001b[0m \u001b[0mpandas\u001b[0m \u001b[0;32mas\u001b[0m \u001b[0mpd\u001b[0m\u001b[0;34m\u001b[0m\u001b[0m\n\u001b[0;32m----> 6\u001b[0;31m \u001b[0;32mimport\u001b[0m \u001b[0mkeras\u001b[0m\u001b[0;34m\u001b[0m\u001b[0m\n\u001b[0m",
      "\u001b[0;31mModuleNotFoundError\u001b[0m: No module named 'keras'"
     ]
    }
   ],
   "source": []
  },
  {
   "cell_type": "code",
   "execution_count": null,
   "metadata": {},
   "outputs": [],
   "source": [
    "sDataPath = '/project/bioinformatics/DLLab/Cooper/Code/AutismProject/Parallelization/TrainedModels/AllAtlases'\n",
    "\n",
    "lsIndex = list(np.zeros(50))\n",
    "\n",
    "for iModel in range(50):\n",
    "    lsIndex[iModel] = 'Model number ' + str(iModel)\n",
    "\n",
    "pdResults = pd.DataFrame(index=lsIndex, columns=['Mean Cross Val', 'Cross Val 1', 'Cross Val 2', 'Cross Val 3'])\n",
    "\n",
    "for i in range(50):\n",
    "    sCVFile1 = sDataPath+'/Dense_'+str(i)+'AllAtlasesROCScoreCrossVal1.p'\n",
    "    sCVFile2 = sDataPath+'/Dense_'+str(i)+'AllAtlasesROCScoreCrossVal2.p'\n",
    "    sCVFile3 = sDataPath+'/Dense_'+str(i)+'AllAtlasesROCScoreCrossVal3.p'\n",
    "    if os.path.isfile(sCVFile1) and os.path.isfile(sCVFile2) and os.path.isfile(sCVFile3):\n",
    "        flCV1 = pickle.load(open(sCVFile1, 'rb'))\n",
    "        flCV2 = pickle.load(open(sCVFile2, 'rb'))\n",
    "        flCV3 = pickle.load(open(sCVFile3, 'rb'))\n",
    "        flMeanCVROC = (flCV1+flCV2+flCV3)/3\n",
    "        pdResults.loc[('Model number ' + str(i)), 'Mean Cross Val'] = flMeanCVROC\n",
    "        pdResults.loc[('Model number ' + str(i)), 'Cross Val 1'] = flCV1\n",
    "        pdResults.loc[('Model number ' + str(i)), 'Cross Val 2'] = flCV2\n",
    "        pdResults.loc[('Model number ' + str(i)), 'Cross Val 3'] = flCV3\n",
    "\n",
    "    else:\n",
    "        pdResults.loc[('Model number ' + str(i)), 'Mean Cross Val'] = 0\n",
    "        pdResults.loc[('Model number ' + str(i)), 'Cross Val 1'] = 0\n",
    "        pdResults.loc[('Model number ' + str(i)), 'Cross Val 2'] = 0\n",
    "        pdResults.loc[('Model number ' + str(i)), 'Cross Val 3'] = 0\n",
    "\n",
    "pdResults = pdResults.infer_objects()\n",
    "lsIndex = pdResults.index\n",
    "iBestModel = lsIndex.get_loc(pdResults['Mean Cross Val'].idxmax())"
   ]
  }
 ],
 "metadata": {
  "kernelspec": {
   "display_name": "Python 3",
   "language": "python",
   "name": "python3"
  },
  "language_info": {
   "codemirror_mode": {
    "name": "ipython",
    "version": 3
   },
   "file_extension": ".py",
   "mimetype": "text/x-python",
   "name": "python",
   "nbconvert_exporter": "python",
   "pygments_lexer": "ipython3",
   "version": "3.6.4"
  }
 },
 "nbformat": 4,
 "nbformat_minor": 2
}
