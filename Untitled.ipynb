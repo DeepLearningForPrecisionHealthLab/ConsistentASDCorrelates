{
 "cells": [
  {
   "cell_type": "code",
   "execution_count": 9,
   "metadata": {},
   "outputs": [],
   "source": [
    "import glob\n",
    "import os"
   ]
  },
  {
   "cell_type": "code",
   "execution_count": 3,
   "metadata": {},
   "outputs": [],
   "source": [
    "strDataDir = '/project/bioinformatics/DLLab/Cooper/Code/AutismProject/Parallelization/ABIDETest/Source/'\n"
   ]
  },
  {
   "cell_type": "code",
   "execution_count": 6,
   "metadata": {},
   "outputs": [],
   "source": [
    "lsSubjects = [x for x in glob.glob(strDataDir+'*/*')]"
   ]
  },
  {
   "cell_type": "code",
   "execution_count": 7,
   "metadata": {},
   "outputs": [
    {
     "data": {
      "text/plain": [
       "['/project/bioinformatics/DLLab/Cooper/Code/AutismProject/Parallelization/ABIDETest/Source/CMU_a/sub-0050653',\n",
       " '/project/bioinformatics/DLLab/Cooper/Code/AutismProject/Parallelization/ABIDETest/Source/CMU_a/sub-0050649',\n",
       " '/project/bioinformatics/DLLab/Cooper/Code/AutismProject/Parallelization/ABIDETest/Source/CMU_a/sub-0050664',\n",
       " '/project/bioinformatics/DLLab/Cooper/Code/AutismProject/Parallelization/ABIDETest/Source/CMU_a/sub-0050660',\n",
       " '/project/bioinformatics/DLLab/Cooper/Code/AutismProject/Parallelization/ABIDETest/Source/CMU_a/task-rest_bold.json',\n",
       " '/project/bioinformatics/DLLab/Cooper/Code/AutismProject/Parallelization/ABIDETest/Source/CMU_a/T1w.json',\n",
       " '/project/bioinformatics/DLLab/Cooper/Code/AutismProject/Parallelization/ABIDETest/Source/CMU_a/sub-0050666',\n",
       " '/project/bioinformatics/DLLab/Cooper/Code/AutismProject/Parallelization/ABIDETest/Source/CMU_a/sub-0050654',\n",
       " '/project/bioinformatics/DLLab/Cooper/Code/AutismProject/Parallelization/ABIDETest/Source/CMU_a/sub-0050656',\n",
       " '/project/bioinformatics/DLLab/Cooper/Code/AutismProject/Parallelization/ABIDETest/Source/CMU_a/sub-0050646',\n",
       " '/project/bioinformatics/DLLab/Cooper/Code/AutismProject/Parallelization/ABIDETest/Source/CMU_a/sub-0050642',\n",
       " '/project/bioinformatics/DLLab/Cooper/Code/AutismProject/Parallelization/ABIDETest/Source/CMU_a/sub-0050665',\n",
       " '/project/bioinformatics/DLLab/Cooper/Code/AutismProject/Parallelization/ABIDETest/Source/CMU_a/sub-0050663',\n",
       " '/project/bioinformatics/DLLab/Cooper/Code/AutismProject/Parallelization/ABIDETest/Source/CMU_a/sub-0050647',\n",
       " '/project/bioinformatics/DLLab/Cooper/Code/AutismProject/Parallelization/ABIDETest/Source/CMU_a/sub-0050668',\n",
       " '/project/bioinformatics/DLLab/Cooper/Code/AutismProject/Parallelization/ABIDETest/Source/CMU_a/sub-0050659',\n",
       " '/project/bioinformatics/DLLab/Cooper/Code/AutismProject/Parallelization/ABIDETest/Source/KKI/sub-0050791',\n",
       " '/project/bioinformatics/DLLab/Cooper/Code/AutismProject/Parallelization/ABIDETest/Source/KKI/sub-0050797',\n",
       " '/project/bioinformatics/DLLab/Cooper/Code/AutismProject/Parallelization/ABIDETest/Source/KKI/sub-0050777',\n",
       " '/project/bioinformatics/DLLab/Cooper/Code/AutismProject/Parallelization/ABIDETest/Source/KKI/sub-0050792',\n",
       " '/project/bioinformatics/DLLab/Cooper/Code/AutismProject/Parallelization/ABIDETest/Source/KKI/sub-0050813',\n",
       " '/project/bioinformatics/DLLab/Cooper/Code/AutismProject/Parallelization/ABIDETest/Source/KKI/sub-0050822',\n",
       " '/project/bioinformatics/DLLab/Cooper/Code/AutismProject/Parallelization/ABIDETest/Source/KKI/sub-0050816',\n",
       " '/project/bioinformatics/DLLab/Cooper/Code/AutismProject/Parallelization/ABIDETest/Source/KKI/sub-0050788',\n",
       " '/project/bioinformatics/DLLab/Cooper/Code/AutismProject/Parallelization/ABIDETest/Source/KKI/task-rest_bold.json',\n",
       " '/project/bioinformatics/DLLab/Cooper/Code/AutismProject/Parallelization/ABIDETest/Source/KKI/sub-0050802',\n",
       " '/project/bioinformatics/DLLab/Cooper/Code/AutismProject/Parallelization/ABIDETest/Source/KKI/sub-0050798',\n",
       " '/project/bioinformatics/DLLab/Cooper/Code/AutismProject/Parallelization/ABIDETest/Source/KKI/sub-0050826',\n",
       " '/project/bioinformatics/DLLab/Cooper/Code/AutismProject/Parallelization/ABIDETest/Source/KKI/sub-0050786',\n",
       " '/project/bioinformatics/DLLab/Cooper/Code/AutismProject/Parallelization/ABIDETest/Source/KKI/sub-0050774',\n",
       " '/project/bioinformatics/DLLab/Cooper/Code/AutismProject/Parallelization/ABIDETest/Source/KKI/sub-0050823',\n",
       " '/project/bioinformatics/DLLab/Cooper/Code/AutismProject/Parallelization/ABIDETest/Source/KKI/sub-0050795',\n",
       " '/project/bioinformatics/DLLab/Cooper/Code/AutismProject/Parallelization/ABIDETest/Source/KKI/sub-0050785',\n",
       " '/project/bioinformatics/DLLab/Cooper/Code/AutismProject/Parallelization/ABIDETest/Source/KKI/T1w.json',\n",
       " '/project/bioinformatics/DLLab/Cooper/Code/AutismProject/Parallelization/ABIDETest/Source/KKI/sub-0050807',\n",
       " '/project/bioinformatics/DLLab/Cooper/Code/AutismProject/Parallelization/ABIDETest/Source/KKI/sub-0050793',\n",
       " '/project/bioinformatics/DLLab/Cooper/Code/AutismProject/Parallelization/ABIDETest/Source/KKI/sub-0050794',\n",
       " '/project/bioinformatics/DLLab/Cooper/Code/AutismProject/Parallelization/ABIDETest/Source/KKI/sub-0050789',\n",
       " '/project/bioinformatics/DLLab/Cooper/Code/AutismProject/Parallelization/ABIDETest/Source/KKI/sub-0050825',\n",
       " '/project/bioinformatics/DLLab/Cooper/Code/AutismProject/Parallelization/ABIDETest/Source/KKI/sub-0050806',\n",
       " '/project/bioinformatics/DLLab/Cooper/Code/AutismProject/Parallelization/ABIDETest/Source/KKI/sub-0050814',\n",
       " '/project/bioinformatics/DLLab/Cooper/Code/AutismProject/Parallelization/ABIDETest/Source/KKI/sub-0050817',\n",
       " '/project/bioinformatics/DLLab/Cooper/Code/AutismProject/Parallelization/ABIDETest/Source/KKI/sub-0050824',\n",
       " '/project/bioinformatics/DLLab/Cooper/Code/AutismProject/Parallelization/ABIDETest/Source/KKI/sub-0050818',\n",
       " '/project/bioinformatics/DLLab/Cooper/Code/AutismProject/Parallelization/ABIDETest/Source/KKI/sub-0050776',\n",
       " '/project/bioinformatics/DLLab/Cooper/Code/AutismProject/Parallelization/ABIDETest/Source/KKI/sub-0050796',\n",
       " '/project/bioinformatics/DLLab/Cooper/Code/AutismProject/Parallelization/ABIDETest/Source/KKI/sub-0050820',\n",
       " '/project/bioinformatics/DLLab/Cooper/Code/AutismProject/Parallelization/ABIDETest/Source/KKI/sub-0050800',\n",
       " '/project/bioinformatics/DLLab/Cooper/Code/AutismProject/Parallelization/ABIDETest/Source/KKI/sub-0050808',\n",
       " '/project/bioinformatics/DLLab/Cooper/Code/AutismProject/Parallelization/ABIDETest/Source/KKI/sub-0050821',\n",
       " '/project/bioinformatics/DLLab/Cooper/Code/AutismProject/Parallelization/ABIDETest/Source/KKI/sub-0050778',\n",
       " '/project/bioinformatics/DLLab/Cooper/Code/AutismProject/Parallelization/ABIDETest/Source/KKI/sub-0050772',\n",
       " '/project/bioinformatics/DLLab/Cooper/Code/AutismProject/Parallelization/ABIDETest/Source/KKI/sub-0050787',\n",
       " '/project/bioinformatics/DLLab/Cooper/Code/AutismProject/Parallelization/ABIDETest/Source/KKI/sub-0050781',\n",
       " '/project/bioinformatics/DLLab/Cooper/Code/AutismProject/Parallelization/ABIDETest/Source/KKI/sub-0050784',\n",
       " '/project/bioinformatics/DLLab/Cooper/Code/AutismProject/Parallelization/ABIDETest/Source/KKI/sub-0050780',\n",
       " '/project/bioinformatics/DLLab/Cooper/Code/AutismProject/Parallelization/ABIDETest/Source/KKI/sub-0050779',\n",
       " '/project/bioinformatics/DLLab/Cooper/Code/AutismProject/Parallelization/ABIDETest/Source/KKI/sub-0050801',\n",
       " '/project/bioinformatics/DLLab/Cooper/Code/AutismProject/Parallelization/ABIDETest/Source/KKI/sub-0050782',\n",
       " '/project/bioinformatics/DLLab/Cooper/Code/AutismProject/Parallelization/ABIDETest/Source/KKI/sub-0050815',\n",
       " '/project/bioinformatics/DLLab/Cooper/Code/AutismProject/Parallelization/ABIDETest/Source/KKI/sub-0050819',\n",
       " '/project/bioinformatics/DLLab/Cooper/Code/AutismProject/Parallelization/ABIDETest/Source/KKI/sub-0050811',\n",
       " '/project/bioinformatics/DLLab/Cooper/Code/AutismProject/Parallelization/ABIDETest/Source/KKI/sub-0050812',\n",
       " '/project/bioinformatics/DLLab/Cooper/Code/AutismProject/Parallelization/ABIDETest/Source/KKI/sub-0050799',\n",
       " '/project/bioinformatics/DLLab/Cooper/Code/AutismProject/Parallelization/ABIDETest/Source/KKI/sub-0050810',\n",
       " '/project/bioinformatics/DLLab/Cooper/Code/AutismProject/Parallelization/ABIDETest/Source/KKI/sub-0050775',\n",
       " '/project/bioinformatics/DLLab/Cooper/Code/AutismProject/Parallelization/ABIDETest/Source/KKI/sub-0050773',\n",
       " '/project/bioinformatics/DLLab/Cooper/Code/AutismProject/Parallelization/ABIDETest/Source/KKI/sub-0050804',\n",
       " '/project/bioinformatics/DLLab/Cooper/Code/AutismProject/Parallelization/ABIDETest/Source/KKI/sub-0050803',\n",
       " '/project/bioinformatics/DLLab/Cooper/Code/AutismProject/Parallelization/ABIDETest/Source/KKI/sub-0050805',\n",
       " '/project/bioinformatics/DLLab/Cooper/Code/AutismProject/Parallelization/ABIDETest/Source/KKI/sub-0050790',\n",
       " '/project/bioinformatics/DLLab/Cooper/Code/AutismProject/Parallelization/ABIDETest/Source/KKI/sub-0050809',\n",
       " '/project/bioinformatics/DLLab/Cooper/Code/AutismProject/Parallelization/ABIDETest/Source/KKI/sub-0050783',\n",
       " '/project/bioinformatics/DLLab/Cooper/Code/AutismProject/Parallelization/ABIDETest/Source/CMU_b/sub-0050657',\n",
       " '/project/bioinformatics/DLLab/Cooper/Code/AutismProject/Parallelization/ABIDETest/Source/CMU_b/sub-0050650',\n",
       " '/project/bioinformatics/DLLab/Cooper/Code/AutismProject/Parallelization/ABIDETest/Source/CMU_b/task-rest_bold.json',\n",
       " '/project/bioinformatics/DLLab/Cooper/Code/AutismProject/Parallelization/ABIDETest/Source/CMU_b/sub-0050669',\n",
       " '/project/bioinformatics/DLLab/Cooper/Code/AutismProject/Parallelization/ABIDETest/Source/CMU_b/sub-0050643',\n",
       " '/project/bioinformatics/DLLab/Cooper/Code/AutismProject/Parallelization/ABIDETest/Source/CMU_b/T1w.json',\n",
       " '/project/bioinformatics/DLLab/Cooper/Code/AutismProject/Parallelization/ABIDETest/Source/CMU_b/sub-0050645',\n",
       " '/project/bioinformatics/DLLab/Cooper/Code/AutismProject/Parallelization/ABIDETest/Source/CMU_b/sub-0050651',\n",
       " '/project/bioinformatics/DLLab/Cooper/Code/AutismProject/Parallelization/ABIDETest/Source/CMU_b/sub-0050648',\n",
       " '/project/bioinformatics/DLLab/Cooper/Code/AutismProject/Parallelization/ABIDETest/Source/CMU_b/sub-0050667',\n",
       " '/project/bioinformatics/DLLab/Cooper/Code/AutismProject/Parallelization/ABIDETest/Source/CMU_b/sub-0050652',\n",
       " '/project/bioinformatics/DLLab/Cooper/Code/AutismProject/Parallelization/ABIDETest/Source/CMU_b/sub-0050644',\n",
       " '/project/bioinformatics/DLLab/Cooper/Code/AutismProject/Parallelization/ABIDETest/Source/CMU_b/sub-0050655',\n",
       " '/project/bioinformatics/DLLab/Cooper/Code/AutismProject/Parallelization/ABIDETest/Source/CMU_b/sub-0050658',\n",
       " '/project/bioinformatics/DLLab/Cooper/Code/AutismProject/Parallelization/ABIDETest/Source/CMU_b/sub-0050661',\n",
       " '/project/bioinformatics/DLLab/Cooper/Code/AutismProject/Parallelization/ABIDETest/Source/Caltech/sub-0051488',\n",
       " '/project/bioinformatics/DLLab/Cooper/Code/AutismProject/Parallelization/ABIDETest/Source/Caltech/sub-0051490',\n",
       " '/project/bioinformatics/DLLab/Cooper/Code/AutismProject/Parallelization/ABIDETest/Source/Caltech/sub-0051483',\n",
       " '/project/bioinformatics/DLLab/Cooper/Code/AutismProject/Parallelization/ABIDETest/Source/Caltech/sub-0051461',\n",
       " '/project/bioinformatics/DLLab/Cooper/Code/AutismProject/Parallelization/ABIDETest/Source/Caltech/sub-0051465',\n",
       " '/project/bioinformatics/DLLab/Cooper/Code/AutismProject/Parallelization/ABIDETest/Source/Caltech/sub-0051491',\n",
       " '/project/bioinformatics/DLLab/Cooper/Code/AutismProject/Parallelization/ABIDETest/Source/Caltech/sub-0051481',\n",
       " '/project/bioinformatics/DLLab/Cooper/Code/AutismProject/Parallelization/ABIDETest/Source/Caltech/sub-0051479',\n",
       " '/project/bioinformatics/DLLab/Cooper/Code/AutismProject/Parallelization/ABIDETest/Source/Caltech/sub-0051482',\n",
       " '/project/bioinformatics/DLLab/Cooper/Code/AutismProject/Parallelization/ABIDETest/Source/Caltech/sub-0051468',\n",
       " '/project/bioinformatics/DLLab/Cooper/Code/AutismProject/Parallelization/ABIDETest/Source/Caltech/sub-0051474',\n",
       " '/project/bioinformatics/DLLab/Cooper/Code/AutismProject/Parallelization/ABIDETest/Source/Caltech/task-rest_bold.json',\n",
       " '/project/bioinformatics/DLLab/Cooper/Code/AutismProject/Parallelization/ABIDETest/Source/Caltech/sub-0051470',\n",
       " '/project/bioinformatics/DLLab/Cooper/Code/AutismProject/Parallelization/ABIDETest/Source/Caltech/T1w.json',\n",
       " '/project/bioinformatics/DLLab/Cooper/Code/AutismProject/Parallelization/ABIDETest/Source/Caltech/sub-0051472',\n",
       " '/project/bioinformatics/DLLab/Cooper/Code/AutismProject/Parallelization/ABIDETest/Source/Caltech/sub-0051469',\n",
       " '/project/bioinformatics/DLLab/Cooper/Code/AutismProject/Parallelization/ABIDETest/Source/Caltech/sub-0051475',\n",
       " '/project/bioinformatics/DLLab/Cooper/Code/AutismProject/Parallelization/ABIDETest/Source/Caltech/sub-0051463',\n",
       " '/project/bioinformatics/DLLab/Cooper/Code/AutismProject/Parallelization/ABIDETest/Source/Caltech/sub-0051489',\n",
       " '/project/bioinformatics/DLLab/Cooper/Code/AutismProject/Parallelization/ABIDETest/Source/Caltech/sub-0051484',\n",
       " '/project/bioinformatics/DLLab/Cooper/Code/AutismProject/Parallelization/ABIDETest/Source/Caltech/sub-0051467',\n",
       " '/project/bioinformatics/DLLab/Cooper/Code/AutismProject/Parallelization/ABIDETest/Source/Caltech/sub-0051456',\n",
       " '/project/bioinformatics/DLLab/Cooper/Code/AutismProject/Parallelization/ABIDETest/Source/Caltech/sub-0051464',\n",
       " '/project/bioinformatics/DLLab/Cooper/Code/AutismProject/Parallelization/ABIDETest/Source/Caltech/sub-0051493',\n",
       " '/project/bioinformatics/DLLab/Cooper/Code/AutismProject/Parallelization/ABIDETest/Source/Caltech/sub-0051485',\n",
       " '/project/bioinformatics/DLLab/Cooper/Code/AutismProject/Parallelization/ABIDETest/Source/Caltech/sub-0051492',\n",
       " '/project/bioinformatics/DLLab/Cooper/Code/AutismProject/Parallelization/ABIDETest/Source/Caltech/sub-0051459',\n",
       " '/project/bioinformatics/DLLab/Cooper/Code/AutismProject/Parallelization/ABIDETest/Source/Caltech/sub-0051457',\n",
       " '/project/bioinformatics/DLLab/Cooper/Code/AutismProject/Parallelization/ABIDETest/Source/Caltech/sub-0051460',\n",
       " '/project/bioinformatics/DLLab/Cooper/Code/AutismProject/Parallelization/ABIDETest/Source/Caltech/sub-0051487',\n",
       " '/project/bioinformatics/DLLab/Cooper/Code/AutismProject/Parallelization/ABIDETest/Source/Caltech/sub-0051480',\n",
       " '/project/bioinformatics/DLLab/Cooper/Code/AutismProject/Parallelization/ABIDETest/Source/Caltech/sub-0051471',\n",
       " '/project/bioinformatics/DLLab/Cooper/Code/AutismProject/Parallelization/ABIDETest/Source/Caltech/sub-0051478',\n",
       " '/project/bioinformatics/DLLab/Cooper/Code/AutismProject/Parallelization/ABIDETest/Source/Caltech/sub-0051486',\n",
       " '/project/bioinformatics/DLLab/Cooper/Code/AutismProject/Parallelization/ABIDETest/Source/Caltech/sub-0051477',\n",
       " '/project/bioinformatics/DLLab/Cooper/Code/AutismProject/Parallelization/ABIDETest/Source/Caltech/sub-0051466',\n",
       " '/project/bioinformatics/DLLab/Cooper/Code/AutismProject/Parallelization/ABIDETest/Source/Caltech/sub-0051462',\n",
       " '/project/bioinformatics/DLLab/Cooper/Code/AutismProject/Parallelization/ABIDETest/Source/Caltech/sub-0051476',\n",
       " '/project/bioinformatics/DLLab/Cooper/Code/AutismProject/Parallelization/ABIDETest/Source/Caltech/sub-0051458',\n",
       " '/project/bioinformatics/DLLab/Cooper/Code/AutismProject/Parallelization/ABIDETest/Source/Caltech/sub-0051473']"
      ]
     },
     "execution_count": 7,
     "metadata": {},
     "output_type": "execute_result"
    }
   ],
   "source": [
    "lsSubjects"
   ]
  },
  {
   "cell_type": "code",
   "execution_count": 10,
   "metadata": {},
   "outputs": [],
   "source": [
    "lsSubjects=[]\n",
    "for sRoot, lsDirs, lsFiles in os.walk(strDataDir):\n",
    "    for sDir in lsDirs:\n",
    "        if 'sub-' in sDir:\n",
    "            lsSubjects.append(os.path.join(sRoot, sDir))"
   ]
  },
  {
   "cell_type": "code",
   "execution_count": 12,
   "metadata": {},
   "outputs": [
    {
     "ename": "ModuleNotFoundError",
     "evalue": "No module named 'bids'",
     "output_type": "error",
     "traceback": [
      "\u001b[0;31m---------------------------------------------------------------------------\u001b[0m",
      "\u001b[0;31mModuleNotFoundError\u001b[0m                       Traceback (most recent call last)",
      "\u001b[0;32m<ipython-input-12-bf220df766e6>\u001b[0m in \u001b[0;36m<module>\u001b[0;34m\u001b[0m\n\u001b[0;32m----> 1\u001b[0;31m \u001b[0;32mimport\u001b[0m \u001b[0mbids\u001b[0m\u001b[0;34m\u001b[0m\u001b[0m\n\u001b[0m",
      "\u001b[0;31mModuleNotFoundError\u001b[0m: No module named 'bids'"
     ]
    }
   ],
   "source": []
  },
  {
   "cell_type": "code",
   "execution_count": null,
   "metadata": {},
   "outputs": [],
   "source": []
  }
 ],
 "metadata": {
  "kernelspec": {
   "display_name": "Python 3",
   "language": "python",
   "name": "python3"
  },
  "language_info": {
   "codemirror_mode": {
    "name": "ipython",
    "version": 3
   },
   "file_extension": ".py",
   "mimetype": "text/x-python",
   "name": "python",
   "nbconvert_exporter": "python",
   "pygments_lexer": "ipython3",
   "version": "3.6.4"
  }
 },
 "nbformat": 4,
 "nbformat_minor": 2
}
