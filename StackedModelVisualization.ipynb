{
 "cells": [
  {
   "cell_type": "markdown",
   "metadata": {},
   "source": [
    "# Stacked Model Visualization"
   ]
  },
  {
   "cell_type": "code",
   "execution_count": 1,
   "metadata": {},
   "outputs": [
    {
     "name": "stdout",
     "output_type": "stream",
     "text": [
      "/project/bioinformatics/DLLab/s169682/Code/AutismProject/Parallelization\n"
     ]
    }
   ],
   "source": [
    "cd /project/bioinformatics/DLLab/Cooper/Code/AutismProject/Parallelization\n"
   ]
  },
  {
   "cell_type": "code",
   "execution_count": null,
   "metadata": {},
   "outputs": [
    {
     "name": "stderr",
     "output_type": "stream",
     "text": [
      "Using TensorFlow backend.\n"
     ]
    }
   ],
   "source": [
    "import keras"
   ]
  },
  {
   "cell_type": "code",
   "execution_count": null,
   "metadata": {},
   "outputs": [],
   "source": [
    "lsModels=[]\n",
    "for i in range(50):\n",
    "    if i<10:\n",
    "        sModelNum='0'+ str(i)\n",
    "    else:\n",
    "        sModelNum=str(i)\n",
    "    lsModels.append('Stack_'+sModelNum)\n"
   ]
  },
  {
   "cell_type": "code",
   "execution_count": null,
   "metadata": {},
   "outputs": [],
   "source": [
    "# %load IMPAC_FetchDLValidation.py\n",
    "import os\n",
    "import pandas as pd\n",
    "import numpy as np\n",
    "import pickle as pkl\n",
    "\n",
    "# Initialize the path to the data and the indices to loop over\n",
    "sDataPath = '/project/bioinformatics/DLLab/Cooper/Code/AutismProject/Parallelization/TrainedModels/Stacked/'\n",
    "\n",
    "lsModels=[]\n",
    "for i in range(50):\n",
    "    if i<10:\n",
    "        sModelNum='0'+ str(i)\n",
    "    else:\n",
    "        sModelNum=str(i)\n",
    "    lsModels.append('Stack_'+sModelNum)\n",
    "\n",
    "pdSummaryData=pd.DataFrame(index=lsModels, columns=['Mean CV ROC', 'CV0 ROC', 'CV1 ROC', 'CV2 ROC'])\n",
    "\n",
    "# Loop through all Cross Validation Results and re-save the mean ROC AUC\n",
    "for i in range(50):\n",
    "\n",
    "    # Get model number tag\n",
    "    if i<10:\n",
    "        sModelNum='0'+ str(i)\n",
    "    else:\n",
    "        sModelNum=str(i)\n",
    "\n",
    "    if os.path.isfile(sDataPath + 'Stack_' + sModelNum + 'CrossVal0ModelROCScore.p')\\\n",
    "            and os.path.isfile(sDataPath + 'Stack_' + sModelNum + 'CrossVal1ModelROCScore.p')\\\n",
    "            and os.path.isfile(sDataPath + 'Stack_' + sModelNum + 'CrossVal2ModelROCScore.p'):\n",
    "        CV0=pkl.load(open((sDataPath + 'Stack_' + sModelNum + 'CrossVal0ModelROCScore.p'), 'rb'))\n",
    "        CV1=pkl.load(open((sDataPath + 'Stack_' + sModelNum + 'CrossVal1ModelROCScore.p'), 'rb'))\n",
    "        CV2=pkl.load(open((sDataPath + 'Stack_' + sModelNum + 'CrossVal2ModelROCScore.p'), 'rb'))\n",
    "\n",
    "        CVMean=(CV0+CV1+CV2)/3.0\n",
    "        \n",
    "        pdSummaryData.loc['Stack_'+sModelNum, 'Mean CV ROC']=CVMean\n",
    "        pdSummaryData.loc['Stack_'+sModelNum, 'CV0 ROC']=CV0\n",
    "        pdSummaryData.loc['Stack_'+sModelNum, 'CV1 ROC']=CV1\n",
    "        pdSummaryData.loc['Stack_'+sModelNum, 'CV2 ROC']=CV2\n",
    "        \n",
    "        pkl.dump(CVMean, open((sDataPath + 'Stack_' + sModelNum + 'MeanCVROCScore.p'), 'wb'))\n",
    "\n",
    "# Walk through the directory and find the model with the highest ROC score\n",
    "flMax = 0\n",
    "sBest = 'run failed'\n",
    "\n",
    "for root, dirs, files in os.walk(sDataPath):\n",
    "    files.sort()\n",
    "\n",
    "    for file in files:\n",
    "        if file.endswith('MeanCVROCScore.p'):\n",
    "            flMeanVal=pkl.load(open(os.path.join(sDataPath, file), 'rb'))\n",
    "            if flMeanVal>flMax:\n",
    "                flMax=flMeanVal\n",
    "                sBest=file\n",
    "\n",
    "print('  ',sBest, flMax)\n"
   ]
  },
  {
   "cell_type": "code",
   "execution_count": null,
   "metadata": {},
   "outputs": [],
   "source": [
    "pdSummaryData"
   ]
  },
  {
   "cell_type": "code",
   "execution_count": null,
   "metadata": {},
   "outputs": [],
   "source": [
    "for sCol in pdSummaryData.columns:\n",
    "    pdSummaryData[sCol] = pd.to_numeric(pdSummaryData[sCol]).fillna(0)"
   ]
  },
  {
   "cell_type": "code",
   "execution_count": null,
   "metadata": {},
   "outputs": [],
   "source": [
    "pdSummaryData.nlargest(5, 'Mean CV ROC')"
   ]
  },
  {
   "cell_type": "code",
   "execution_count": null,
   "metadata": {},
   "outputs": [],
   "source": [
    "import gc"
   ]
  },
  {
   "cell_type": "code",
   "execution_count": null,
   "metadata": {},
   "outputs": [],
   "source": [
    "dModelHistories={}\n",
    "def fFetchModelHist(iModel):\n",
    "    if iModel<10:\n",
    "        sModel='Stack_0'+str(iModel)\n",
    "    else:\n",
    "        sModel='Stack_'+str(iModel)\n",
    "    print(sModel)\n",
    "    dCVHist={}\n",
    "    for iCV in range(3):\n",
    "        if os.path.isfile(os.path.join(sDataPath, (sModel+'CrossVal'+str(iCV)+'ModelHistory.p'))):\n",
    "            ModelHist=pkl.load(open(os.path.join(sDataPath, (sModel+'CrossVal'+str(iCV)+'ModelHistory.p')), 'rb'))\n",
    "            dCVHist[('CV'+str(iCV))]=ModelHist.history\n",
    "            del(ModelHist)\n",
    "        else:\n",
    "            dCVHist[('CV'+str(iCV))]=0\n",
    "    dModelHistories[sModel]=dCVHist\n",
    "    del(dCVHist)\n",
    "    gc.collect()\n",
    "    return dModelHistories[sModel]"
   ]
  },
  {
   "cell_type": "code",
   "execution_count": null,
   "metadata": {},
   "outputs": [],
   "source": [
    "import matplotlib.pyplot as plt\n",
    "def fPlot(iModel, sType):\n",
    "    \n",
    "    dCVHist=fFetchModelHist(iModel)\n",
    "    \n",
    "    if iModel<10:\n",
    "        sModel='Stack_0'+str(iModel)\n",
    "    else:\n",
    "        sModel='Stack_'+str(iModel)\n",
    "    \n",
    "    plt.style.use('seaborn-white')\n",
    "    \n",
    "    plt.figure(1)\n",
    "    plt.plot(range(len(dCVHist['CV0'][sType])), dCVHist['CV0'][sType],\n",
    "             range(len(dCVHist['CV1'][sType])), dCVHist['CV1'][sType],\n",
    "             range(len(dCVHist['CV2'][sType])), dCVHist['CV2'][sType]\n",
    "            )\n",
    "    plt.gca().set_prop_cycle(None)\n",
    "    plt.plot(range(len(dCVHist['CV0']['val_'+sType])), dCVHist['CV0']['val_'+sType], '--', \n",
    "             range(len(dCVHist['CV1']['val_'+sType])), dCVHist['CV1']['val_'+sType], '--',\n",
    "             range(len(dCVHist['CV2']['val_'+sType])), dCVHist['CV2']['val_'+sType], '--',\n",
    "             solid_capstyle='round'\n",
    "            )\n",
    "\n",
    "\n",
    "    plt.legend(('Training Fold 1', 'Training Fold 2', 'Training Fold 3',\n",
    "               'Validation Fold 1', 'Validation Fold 3', 'Validation Fold 3'),\n",
    "               loc='center left', bbox_to_anchor=(1,0.5)\n",
    "              )\n",
    "    \n",
    "    flTestPerformance = pkl.load(open('/project/bioinformatics/DLLab/Cooper/Code/AutismProject/Parallelization/TrainedModels/Stacked/'+sModel+'FullModelROCScore.p', 'rb'))\n",
    "        \n",
    "    plt.title('Training ' + sType + ' for Architecture Number ' + sModel\n",
    "              +'\\n Test Performance: ' + str(flTestPerformance))\n",
    "    plt.xlabel('Epoch')\n",
    "    plt.grid(False)\n",
    "    plt.ylabel(sType)\n",
    "\n",
    "plt.show()"
   ]
  },
  {
   "cell_type": "code",
   "execution_count": null,
   "metadata": {},
   "outputs": [],
   "source": [
    "flTestPerformance = pkl.load(open('/project/bioinformatics/DLLab/Cooper/Code/AutismProject/Parallelization/TrainedModels/Stacked/Stack_18FullModelROCScore.p', 'rb'))\n",
    "flTestPerformance"
   ]
  },
  {
   "cell_type": "code",
   "execution_count": null,
   "metadata": {},
   "outputs": [],
   "source": [
    "#iModel=18\n",
    "#sType='acc'\n",
    "#fPlot(iModel, sType)"
   ]
  },
  {
   "cell_type": "code",
   "execution_count": null,
   "metadata": {},
   "outputs": [],
   "source": [
    "iModel=41\n",
    "fPlot(iModel, sType)"
   ]
  },
  {
   "cell_type": "code",
   "execution_count": null,
   "metadata": {},
   "outputs": [],
   "source": [
    "iModel=20\n",
    "fPlot(iModel, sType)"
   ]
  },
  {
   "cell_type": "code",
   "execution_count": null,
   "metadata": {},
   "outputs": [],
   "source": [
    "iModel=16\n",
    "fPlot(iModel, sType)"
   ]
  },
  {
   "cell_type": "code",
   "execution_count": null,
   "metadata": {},
   "outputs": [],
   "source": [
    "iModel=36\n",
    "fPlot(iModel, sType)"
   ]
  },
  {
   "cell_type": "code",
   "execution_count": null,
   "metadata": {},
   "outputs": [],
   "source": []
  }
 ],
 "metadata": {
  "kernelspec": {
   "display_name": "Python 3",
   "language": "python",
   "name": "python3"
  },
  "language_info": {
   "codemirror_mode": {
    "name": "ipython",
    "version": 3
   },
   "file_extension": ".py",
   "mimetype": "text/x-python",
   "name": "python",
   "nbconvert_exporter": "python",
   "pygments_lexer": "ipython3",
   "version": "3.6.6"
  }
 },
 "nbformat": 4,
 "nbformat_minor": 2
}
